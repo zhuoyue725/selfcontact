{
 "cells": [
  {
   "cell_type": "markdown",
   "metadata": {},
   "source": [
    "- 发生异常: AssertionError\n",
    "Path ./original_model/smplx/SMPLX_MALE.npz does not exist! SMPLX_MALE.npz\n",
    "    - betas 10\n",
    "    - pose 87\n",
    "    - gender\n",
    "    - model\n",
    "    - vertices 10475,3"
   ]
  },
  {
   "cell_type": "code",
   "execution_count": null,
   "metadata": {},
   "outputs": [],
   "source": [
    "import smplx\n",
    "\n",
    "def get_bodymodels(\n",
    "        model_path, \n",
    "        model_type, \n",
    "        device, \n",
    "        batch_size=1, \n",
    "        num_pca_comps=12\n",
    "    ):\n",
    "\n",
    "    models = {}\n",
    "\n",
    "    # model parameters for self-contact optimization\n",
    "    model_params = dict(\n",
    "        batch_size=batch_size,\n",
    "        model_type=model_type,\n",
    "        create_body_pose=True,\n",
    "        create_transl=False,\n",
    "        create_betas=False,\n",
    "        create_global_orient=False,\n",
    "        create_left_hand_pose=True,\n",
    "        create_right_hand_pose=True,\n",
    "        use_pca=True,\n",
    "        num_pca_comps=num_pca_comps,\n",
    "        return_full_pose=True,\n",
    "    )\n",
    "    \n",
    "    # create smplx model per gender\n",
    "    for gender in ['male', 'female', 'neutral']:\n",
    "        models[gender] = smplx.create(\n",
    "            model_path=model_path,\n",
    "            gender=gender,\n",
    "            **model_params\n",
    "        ).to(device)\n",
    "    \n",
    "    return models"
   ]
  },
  {
   "cell_type": "code",
   "execution_count": 2,
   "metadata": {},
   "outputs": [
    {
     "ename": "AttributeError",
     "evalue": "'Struct' object has no attribute 'shapedirs'",
     "output_type": "error",
     "traceback": [
      "\u001b[0;31m---------------------------------------------------------------------------\u001b[0m",
      "\u001b[0;31mAttributeError\u001b[0m                            Traceback (most recent call last)",
      "\u001b[0;32m/tmp/ipykernel_27762/1615180115.py\u001b[0m in \u001b[0;36m<module>\u001b[0;34m\u001b[0m\n\u001b[1;32m     10\u001b[0m \u001b[0mdata_struct\u001b[0m \u001b[0;34m=\u001b[0m \u001b[0mStruct\u001b[0m\u001b[0;34m(\u001b[0m\u001b[0;34m**\u001b[0m\u001b[0mmodel_data\u001b[0m\u001b[0;34m)\u001b[0m\u001b[0;34m\u001b[0m\u001b[0;34m\u001b[0m\u001b[0m\n\u001b[1;32m     11\u001b[0m \u001b[0;34m\u001b[0m\u001b[0m\n\u001b[0;32m---> 12\u001b[0;31m \u001b[0mshapedirs\u001b[0m \u001b[0;34m=\u001b[0m \u001b[0mdata_struct\u001b[0m\u001b[0;34m.\u001b[0m\u001b[0mshapedirs\u001b[0m\u001b[0;34m\u001b[0m\u001b[0;34m\u001b[0m\u001b[0m\n\u001b[0m\u001b[1;32m     13\u001b[0m \u001b[0;34m\u001b[0m\u001b[0m\n\u001b[1;32m     14\u001b[0m \u001b[0mprint\u001b[0m\u001b[0;34m(\u001b[0m\u001b[0mmodel_data\u001b[0m\u001b[0;34m)\u001b[0m\u001b[0;34m\u001b[0m\u001b[0;34m\u001b[0m\u001b[0m\n",
      "\u001b[0;31mAttributeError\u001b[0m: 'Struct' object has no attribute 'shapedirs'"
     ]
    }
   ],
   "source": [
    "import numpy as np\n",
    "\n",
    "class Struct(object):\n",
    "    def __init__(self, **kwargs):\n",
    "        for key, val in kwargs.items():\n",
    "            setattr(self, key, val)\n",
    "\n",
    "smplx_path = './original_model/smplx/smplx_pose1.npz'\n",
    "model_data = np.load(smplx_path, allow_pickle=True)\n",
    "data_struct = Struct(**model_data)\n",
    "\n",
    "shapedirs = data_struct.shapedirs\n",
    "\n",
    "print(model_data)"
   ]
  },
  {
   "cell_type": "code",
   "execution_count": 4,
   "metadata": {},
   "outputs": [
    {
     "name": "stdout",
     "output_type": "stream",
     "text": [
      "11.6\n"
     ]
    }
   ],
   "source": [
    "import torch\n",
    "print(torch.version.cuda)"
   ]
  },
  {
   "cell_type": "code",
   "execution_count": 6,
   "metadata": {},
   "outputs": [],
   "source": [
    "use_cuda = True\n",
    "dtype = torch.LongTensor\n",
    "diag_ind_x = torch.arange(0, 10).type(dtype)"
   ]
  },
  {
   "cell_type": "code",
   "execution_count": null,
   "metadata": {},
   "outputs": [],
   "source": [
    "1. 与OBB盒计算winding numbers\n",
    "    1. 根据不同身体部位的顶点构建OBB盒，顶点有对应的部位segment索引\n",
    "    2. 同一个segment的顶点，与其他不同segment的OBB盒计算winding numbers\n",
    "    3. 如果在某个OBB盒内部，就与该segment的顶点计算一次精确的winding numbers，对每个OBB都计算，直到结束or在内部"
   ]
  },
  {
   "cell_type": "markdown",
   "metadata": {},
   "source": [
    "SelfContact 479 -> 1664\n",
    "load_model_param 1642 -> 2536\n",
    "loss.configure 2529 -> 4876\n",
    "segment_points_scopti 4794 -> 6047"
   ]
  },
  {
   "cell_type": "markdown",
   "metadata": {},
   "source": [
    "v2v占用200MB\n",
    "但是如果v2v"
   ]
  }
 ],
 "metadata": {
  "kernelspec": {
   "display_name": "selfcontact",
   "language": "python",
   "name": "python3"
  },
  "language_info": {
   "codemirror_mode": {
    "name": "ipython",
    "version": 3
   },
   "file_extension": ".py",
   "mimetype": "text/x-python",
   "name": "python",
   "nbconvert_exporter": "python",
   "pygments_lexer": "ipython3",
   "version": "3.7.16"
  }
 },
 "nbformat": 4,
 "nbformat_minor": 2
}
